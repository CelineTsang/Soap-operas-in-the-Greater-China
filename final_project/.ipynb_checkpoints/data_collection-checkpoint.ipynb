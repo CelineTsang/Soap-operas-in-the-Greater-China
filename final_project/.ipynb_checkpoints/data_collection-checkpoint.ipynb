{
 "cells": [
  {
   "cell_type": "code",
   "execution_count": 1,
   "metadata": {},
   "outputs": [],
   "source": [
    "import time\n",
    "import random\n",
    "import requests\n",
    "import pandas as pd\n",
    "from bs4 import BeautifulSoup\n",
    "from selenium import webdriver"
   ]
  },
  {
   "cell_type": "code",
   "execution_count": 2,
   "metadata": {},
   "outputs": [],
   "source": [
    "url = 'https://movie.douban.com/tag/#/?sort=S&range=2,10&tags=%E7%94%B5%E8%A7%86%E5%89%A7&start=0&countries=%E4%B8%AD%E5%9B%BD%E5%A4%A7%E9%99%86'\n",
    "ips = ['122.152.196.126', '114.215.174.227', '119.185.30.75']\n",
    "User_Agents = [\n",
    "    'Mozilla/5.0 (Macintosh; Intel Mac OS X 10_13_6) AppleWebKit/537.36 (KHTML, like Gecko) Chrome/70.0.3538.102 Safari/537.36',\n",
    "    'Mozilla/5.0 (Macintosh; U; Intel Mac OS X 10_6_8; en-us) AppleWebKit/534.50 (KHTML, like Gecko) Version/5.1 Safari/534.50',\n",
    "    'Mozilla/5.0 (Windows; U; Windows NT 6.1; en-us) AppleWebKit/534.50 (KHTML, like Gecko) Version/5.1 Safari/534.50',\n",
    "    'Mozilla/5.0 (Macintosh; Intel Mac OS X 10.6; rv:2.0.1) Gecko/20100101 Firefox/4.0.1',\n",
    "    'Mozilla/5.0 (compatible; MSIE 9.0; Windows NT 6.1; Trident/5.0',\n",
    "    'Opera/9.80 (Macintosh; Intel Mac OS X 10.6.8; U; en) Presto/2.8.131 Version/11.11',\n",
    "    'Opera/9.80 (Windows NT 6.1; U; en) Presto/2.8.131 Version/11.11'\n",
    "]\n",
    "Headers = {\n",
    "    'Accept': 'text/html,application/xhtml+xml,application/xml;q=0.9,image/webp,image/apng,*/*;q=0.8', \n",
    "    'Accept-Encoding': 'gzip, deflate, br', \n",
    "    'Accept-Language': 'zh-CN,zh;q=0.9', \n",
    "    'Connection': 'keep-alive', \n",
    "    'Cookie': 'll=\"108090\"; bid=RCQuJh5W6uA; _vwo_uuid_v2=DE0655BABE1957865C0B256950AD3853D|0a7c48214e00a9dfb4577f1ac49ca58c; ps=y; push_noty_num=0; push_doumail_num=0; __utmv=30149280.18727; __utmc=30149280; gr_user_id=f19fd5f6-ecf0-49d8-a885-034037293bb9; as=\"https://sec.douban.com/b?r=https%3A%2F%2Fmovie.douban.com%2Fcelebrity%2F1312700%2F\"; dbcl2=\"187278528:y9OXvoexX0g\"; ck=xb-g; __yadk_uid=qVMgftxxu2SWyXjlxh6A6NYoDRYwQNnd; ap_v=0,6.0; _pk_ref.100001.8cb4=%5B%22%22%2C%22%22%2C1542950923%2C%22https%3A%2F%2Fwww.baidu.com%2Flink%3Furl%3DVbj4lDLMZY4h9YwHoS4hPewratj0oD9JyXqsH-7oEmGNMOh90p3FMxx4p2--pOfb%26wd%3D%26eqid%3D9b06374a0000964e000000065bf78ff5%22%5D; _pk_ses.100001.8cb4=*; __utma=30149280.659914314.1541418835.1542948737.1542950925.24; __utmz=30149280.1542950925.24.5.utmcsr=baidu|utmccn=(organic)|utmcmd=organic; __utmt=1; douban-profile-remind=1; _pk_id.100001.8cb4=9aa7e0a808761a64.1541418995.6.1542951038.1542948737.; __utmb=30149280.6.10.1542950925', \n",
    "    'Host': 'www.douban.com', \n",
    "    'Referer': 'https://www.douban.com/people/187278528/', \n",
    "    'Upgrade-Insecure-Requests': '1', \n",
    "    'User-Agent': random.choice(User_Agents)\n",
    "}"
   ]
  },
  {
   "cell_type": "code",
   "execution_count": 3,
   "metadata": {},
   "outputs": [],
   "source": [
    "# driver = webdriver.Chrome()\n",
    "# driver.get(url)\n",
    "# driver.maximize_window()"
   ]
  },
  {
   "cell_type": "code",
   "execution_count": 4,
   "metadata": {},
   "outputs": [],
   "source": [
    "def one_click():\n",
    "    driver.find_element_by_class_name('more').click()\n",
    "    time.sleep(1.5)\n",
    "while True:\n",
    "    try:\n",
    "        one_click()\n",
    "    except:\n",
    "        break"
   ]
  },
  {
   "cell_type": "code",
   "execution_count": 5,
   "metadata": {},
   "outputs": [],
   "source": [
    "# driver.find_element_by_class_name('th-list').click()"
   ]
  },
  {
   "cell_type": "code",
   "execution_count": 6,
   "metadata": {},
   "outputs": [],
   "source": [
    "# urls = [k.get_attribute('href') for k in driver.find_elements_by_class_name('title')]"
   ]
  },
  {
   "cell_type": "code",
   "execution_count": 7,
   "metadata": {},
   "outputs": [],
   "source": [
    "df = pd.read_csv('dataset/data_collection/tw_urls.csv')\n",
    "urls = [url[0] for url in df.values]"
   ]
  },
  {
   "cell_type": "code",
   "execution_count": 8,
   "metadata": {},
   "outputs": [],
   "source": [
    "def scrape_one_url(url):\n",
    "    r = requests.get(url, proxies = {'http': random.choice(ips)}, headers = Headers)\n",
    "    data = BeautifulSoup(r.text, 'html.parser')\n",
    "    my1 = data.find('h1').text.strip()\n",
    "    my2 = data.find(id = 'info').text.strip()\n",
    "    my3 = data.find(typeof = 'v:Rating').text.strip()\n",
    "    return my1, my2, my3\n",
    "datasets = []\n",
    "error_urls = []\n",
    "# for url in urls:\n",
    "#     try:\n",
    "#         datasets.append(scrape_one_url(url))\n",
    "#     except:\n",
    "#         error_urls.append(url)"
   ]
  },
  {
   "cell_type": "markdown",
   "metadata": {},
   "source": [
    "<font face=\"黑体\" size=4 color=#3A5FCD > Scrape all Chinese TV dramas' link to their detail information page."
   ]
  },
  {
   "cell_type": "code",
   "execution_count": 9,
   "metadata": {},
   "outputs": [],
   "source": [
    "titles = []\n",
    "years = []\n",
    "for dataset in datasets:\n",
    "    titles.append(dataset[0].split()[0])\n",
    "    years.append(dataset[0].split()[-1].strip('()'))\n",
    "df = pd.DataFrame({'剧名': titles, '年份': years})"
   ]
  },
  {
   "cell_type": "code",
   "execution_count": 10,
   "metadata": {},
   "outputs": [],
   "source": [
    "headers = ['导演', '编剧', '主演', '类型', '制片国家/地区', '集数', '单集片长']\n",
    "def add_one_df(string):\n",
    "    things = []\n",
    "    for dataset in datasets:\n",
    "        thing = None\n",
    "        for i in dataset[1].split('\\n'):\n",
    "            if i.find(string) != -1:\n",
    "                thing = i.strip(string).strip(': ').strip('分钟')\n",
    "                break\n",
    "        things.append(thing)\n",
    "    return things\n",
    "for header in headers:\n",
    "    df[header] = add_one_df(header)"
   ]
  },
  {
   "cell_type": "code",
   "execution_count": 11,
   "metadata": {},
   "outputs": [],
   "source": [
    "scores = []\n",
    "numbers = []\n",
    "for dataset in datasets:\n",
    "    scores.append(dataset[2].split('\\n')[0])\n",
    "    numbers.append(dataset[2].split('\\n')[-1].strip('人评价'))\n",
    "df['豆瓣评分'] = scores\n",
    "df['评价人数'] = numbers"
   ]
  },
  {
   "cell_type": "code",
   "execution_count": 12,
   "metadata": {},
   "outputs": [],
   "source": [
    "df.columns = ['剧名', '年份', '导演', '编剧', '主演', '类型', '制片国家/地区', '集数', '单集片长/分钟', '豆瓣评分', '评价人数/人']"
   ]
  },
  {
   "cell_type": "code",
   "execution_count": 13,
   "metadata": {},
   "outputs": [],
   "source": [
    "final = df.sort_values(by = '豆瓣评分', ascending = False)"
   ]
  },
  {
   "cell_type": "code",
   "execution_count": 14,
   "metadata": {},
   "outputs": [],
   "source": [
    "# final.to_csv('dataset/data_presentation/results_tw.csv', index = False, encoding = 'utf-8-sig')"
   ]
  },
  {
   "cell_type": "markdown",
   "metadata": {},
   "source": [
    "<font face=\"黑体\" size=4 color=#3A5FCD > Scrape basic information of all Chinese TV dramas."
   ]
  },
  {
   "cell_type": "code",
   "execution_count": null,
   "metadata": {},
   "outputs": [],
   "source": []
  }
 ],
 "metadata": {
  "kernelspec": {
   "display_name": "Python 3",
   "language": "python",
   "name": "python3"
  },
  "language_info": {
   "codemirror_mode": {
    "name": "ipython",
    "version": 3
   },
   "file_extension": ".py",
   "mimetype": "text/x-python",
   "name": "python",
   "nbconvert_exporter": "python",
   "pygments_lexer": "ipython3",
   "version": "3.7.0"
  }
 },
 "nbformat": 4,
 "nbformat_minor": 2
}
